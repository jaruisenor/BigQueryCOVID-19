{
 "cells": [
  {
   "cell_type": "markdown",
   "metadata": {},
   "source": [
    "# Big Query Covid Dashboard\n",
    "\n",
    "The following dashboard was developed using Data Studio and Big Query tools from Google. Data was imported into the report using Standard SQL\n",
    "\n",
    "![Dash](images/dashboard.png)\n",
    "\n",
    "We can see that the dashboard integrates 2 tables within 2 different covid-19 public datasets. Inte following diagram we illustrate the 2 tables and their corresponding schemas. These 2 tables are used and queried on different ways:\n",
    "\n",
    "- Each tables is queried considering the whole date column and considering the latest date in the date column (most current)"
   ]
  },
  {
   "cell_type": "markdown",
   "metadata": {},
   "source": [
    "Here we can see each table schema \n",
    "\n",
    "\n",
    "![Schema](images/tables.png)"
   ]
  },
  {
   "cell_type": "markdown",
   "metadata": {},
   "source": [
    "### Oxford Policy Tracker table\n",
    "\n",
    "This table is queried using the 2 SQL codes which can be in details in SQL.ipynb. Here we illustrate which columns are queried and used in the dashboard. We formed 2 tables from the \"Oxford Policy Tracker\" which are named \"Restrictions_info\" and \"Uptodate_restrictions\". We can see the selected columns in the illsutration\n",
    "\n",
    "![tables](images/Selection1.png)"
   ]
  },
  {
   "cell_type": "markdown",
   "metadata": {},
   "source": [
    "### Covid-19 geographic distribution\n",
    "\n",
    "This table is queried using the 2 SQL codes which can be in details in SQL.ipynb. Here we illustrate which columns are queried and used in the dashboard. We formed 2 tables from the \"covid_19_geographic_distribution_worldwide\" which are named \"whole_period_data\" and \"most_current_data\". We can see the selected columns in the illsutration\n",
    "\n",
    "![tables2](images/tables2.png)"
   ]
  }
 ],
 "metadata": {
  "kernelspec": {
   "display_name": "Python 3",
   "language": "python",
   "name": "python3"
  },
  "language_info": {
   "codemirror_mode": {
    "name": "ipython",
    "version": 3
   },
   "file_extension": ".py",
   "mimetype": "text/x-python",
   "name": "python",
   "nbconvert_exporter": "python",
   "pygments_lexer": "ipython3",
   "version": "3.7.7"
  }
 },
 "nbformat": 4,
 "nbformat_minor": 4
}
